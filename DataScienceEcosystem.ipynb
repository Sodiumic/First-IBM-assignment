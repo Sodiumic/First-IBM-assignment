{
 "cells": [
  {
   "cell_type": "markdown",
   "id": "1b1a6348-d127-434c-b218-909c098c53cb",
   "metadata": {},
   "source": [
    "# Data Science Tools and Ecosystem"
   ]
  },
  {
   "cell_type": "markdown",
   "id": "f3c2f911-4c83-4fdc-b722-37ffa70ad8a8",
   "metadata": {},
   "source": [
    "# **Objectives:**\n",
    "\n",
    "- list popular Data science programming languages\n",
    "- List popular libraries for data science in pythen\n",
    "- Explain what Git is about.\n",
    "\n"
   ]
  },
  {
   "cell_type": "markdown",
   "id": "cbac154b-765a-4f7c-90f7-afa0905c0c36",
   "metadata": {},
   "source": [
    "# In this notebook, Data Science Tools and Ecosystem are summarized."
   ]
  },
  {
   "cell_type": "markdown",
   "id": "02eec60a-e3a3-4d56-a103-f89b265385d1",
   "metadata": {},
   "source": [
    "# Some of the popular languages that Data Scientists use are:\n",
    "\n",
    "1. Python\n",
    "2. SQL\n",
    "3. R programming language"
   ]
  },
  {
   "cell_type": "markdown",
   "id": "a70ed9a7-2eb1-4d0a-a016-c4e937ceb84c",
   "metadata": {},
   "source": [
    "# Some of the commonly used libraries used by Data Scientists include:\n",
    "1. Scientific computing libraries\n",
    "2. Visualization libraries\n",
    "3. High-level machine learning and deep learning"
   ]
  },
  {
   "cell_type": "markdown",
   "id": "e701c9b0-215b-4d54-8512-4489410ee108",
   "metadata": {
    "tags": []
   },
   "source": [
    "# A table of Data Science tools\n",
    "\n",
    "|Data Science Tools| \n",
    "|------------------|\n",
    "|Python|\n",
    "|KNIME|\n",
    "|RStudio|"
   ]
  },
  {
   "cell_type": "markdown",
   "id": "3756bac4-1b28-419d-ac56-56760057097b",
   "metadata": {},
   "source": [
    "### Below are a few examples of evaluating arithmetic expressions in Python\n"
   ]
  },
  {
   "cell_type": "code",
   "execution_count": 2,
   "id": "41aa55b7-4897-467b-8df5-13d2aa63e1ed",
   "metadata": {
    "tags": []
   },
   "outputs": [
    {
     "name": "stdout",
     "output_type": "stream",
     "text": [
      "17\n"
     ]
    }
   ],
   "source": [
    "# This a simple arithmetic expression to mutiply then add integers.\n",
    "A = (3*4)+5\n",
    "print(A)\n"
   ]
  },
  {
   "cell_type": "code",
   "execution_count": 6,
   "id": "4ea90bad-1822-42f8-bfb6-b7ef7d704841",
   "metadata": {
    "tags": []
   },
   "outputs": [
    {
     "name": "stdout",
     "output_type": "stream",
     "text": [
      "200 minutes equates to; 3.3333333333333335 hours\n"
     ]
    }
   ],
   "source": [
    "# This will convert 200 minutes to hours by diving by 60.\n",
    "H = 200/60\n",
    "print(\"200 minutes equates to;\",H,\"hours\")"
   ]
  },
  {
   "cell_type": "markdown",
   "id": "186503b7-db44-469c-93dc-70b76fe086c7",
   "metadata": {},
   "source": [
    "## Author\n",
    "Taiwo Adedeji Kayode"
   ]
  },
  {
   "cell_type": "code",
   "execution_count": null,
   "id": "6428d9c2-d198-43c7-bed5-ba0dcddb1060",
   "metadata": {},
   "outputs": [],
   "source": []
  }
 ],
 "metadata": {
  "kernelspec": {
   "display_name": "Python 3 (ipykernel)",
   "language": "python",
   "name": "python3"
  },
  "language_info": {
   "codemirror_mode": {
    "name": "ipython",
    "version": 3
   },
   "file_extension": ".py",
   "mimetype": "text/x-python",
   "name": "python",
   "nbconvert_exporter": "python",
   "pygments_lexer": "ipython3",
   "version": "3.11.5"
  }
 },
 "nbformat": 4,
 "nbformat_minor": 5
}
